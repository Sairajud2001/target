{
 "cells": [
  {
   "cell_type": "code",
   "execution_count": 4,
   "metadata": {},
   "outputs": [
    {
     "name": "stdout",
     "output_type": "stream",
     "text": [
      "8\n"
     ]
    }
   ],
   "source": [
    "#\"\"\"This Python function `numSubarrayProductLessThanK` is designed to calculate the number of subarrays within a given array `nums` whose product is less than a specified threshold `k`. The function uses a two-pointer approach to efficiently solve this problem.\"\"\"\n",
    "def numSubarrayProductLessThanK( nums, k):\n",
    "        #two pointers approach\n",
    "        res=0 \n",
    "        #`l=0` is initializing the left pointer of the two pointers approach to 0. This pointer will be used to keep track of the start of the current subarray being considered while iterating through the array.\n",
    "        l=0\n",
    "        prod=1\n",
    "        for right in range(len(nums)):\n",
    "            prod *=nums[right]\n",
    "            while l<=right and prod>=k:\n",
    "                #The line `prod=prod//nums[l]` is dividing the current product by the value at the left pointer `l`. This step is necessary when the product of the current subarray exceeds or equals the given threshold `k`. By dividing the product by the value at the left pointer, we effectively remove the leftmost element from the subarray, allowing us to consider a new subarray starting from the next element. This process continues until the product is less than `k`, ensuring that we count all subarrays with a product less than `k`.\n",
    "                prod=prod//nums[l]\n",
    "                l+=1\n",
    "            res+=(right-l+1)\n",
    "        return res\n",
    "print(numSubarrayProductLessThanK([10,5,2,6],100))"
   ]
  },
  {
   "cell_type": "code",
   "execution_count": null,
   "metadata": {},
   "outputs": [],
   "source": [
    "\n"
   ]
  }
 ],
 "metadata": {
  "kernelspec": {
   "display_name": "Python 3",
   "language": "python",
   "name": "python3"
  },
  "language_info": {
   "codemirror_mode": {
    "name": "ipython",
    "version": 3
   },
   "file_extension": ".py",
   "mimetype": "text/x-python",
   "name": "python",
   "nbconvert_exporter": "python",
   "pygments_lexer": "ipython3",
   "version": "3.11.4"
  }
 },
 "nbformat": 4,
 "nbformat_minor": 2
}
